{
 "cells": [
  {
   "cell_type": "markdown",
   "id": "f8f80925",
   "metadata": {
    "pycharm": {
     "name": "#%% md\n"
    }
   },
   "source": []
  },
  {
   "cell_type": "markdown",
   "id": "028c341d",
   "metadata": {
    "pycharm": {
     "name": "#%% md\n"
    }
   },
   "source": []
  },
  {
   "cell_type": "markdown",
   "id": "613520d0",
   "metadata": {
    "pycharm": {
     "name": "#%% md\n"
    }
   },
   "source": [
    "\n"
   ]
  },
  {
   "cell_type": "code",
   "execution_count": 60,
   "id": "a3749f16",
   "metadata": {
    "pycharm": {
     "name": "#%%\n"
    }
   },
   "outputs": [],
   "source": [
    "import random\n",
    "import timeit\n",
    "import copy"
   ]
  },
  {
   "cell_type": "markdown",
   "id": "1393551a",
   "metadata": {
    "pycharm": {
     "name": "#%% md\n"
    }
   },
   "source": []
  },
  {
   "cell_type": "code",
   "execution_count": 61,
   "id": "d7db89ee",
   "metadata": {
    "pycharm": {
     "name": "#%%\n"
    }
   },
   "outputs": [],
   "source": [
    "## Задание №2"
   ]
  },
  {
   "cell_type": "markdown",
   "id": "11597a1b",
   "metadata": {
    "pycharm": {
     "name": "#%% md\n"
    }
   },
   "source": []
  },
  {
   "cell_type": "code",
   "execution_count": 62,
   "id": "7adf255d",
   "metadata": {
    "pycharm": {
     "name": "#%%\n"
    }
   },
   "outputs": [],
   "source": [
    "##Простое рехеширование"
   ]
  },
  {
   "cell_type": "markdown",
   "id": "5f1cae35",
   "metadata": {
    "pycharm": {
     "name": "#%% md\n"
    }
   },
   "source": []
  },
  {
   "cell_type": "code",
   "execution_count": 63,
   "id": "3001829d",
   "metadata": {
    "pycharm": {
     "name": "#%%\n"
    }
   },
   "outputs": [
    {
     "name": "stdout",
     "output_type": "stream",
     "text": [
      "a\n",
      "b\n",
      "c\n",
      "d\n"
     ]
    }
   ],
   "source": [
    "class HashTable:\n",
    "    # Конструктор класса\n",
    "    def __init__(self):\n",
    "        self.size = 10 # размер таблицы\n",
    "        self.keys = [None] * self.size # ключи\n",
    "        self.values = [None] * self.size # значения\n",
    "\n",
    "    # Метод для хеширования ключей\n",
    "    def hashFunction(self, key):\n",
    "        return key % self.size\n",
    "\n",
    "    # Метод для добавления элемента в таблицу\n",
    "    def put(self, key, data):\n",
    "        # Получаем индекс для ключа\n",
    "        index = self.hashFunction(key)\n",
    "\n",
    "        # Если ячейка пуста, добавляем элемент\n",
    "        if self.keys[index] is None:\n",
    "            self.keys[index] = key\n",
    "            self.values[index] = data\n",
    "        else:\n",
    "            # Иначе, используем линейное пробирование\n",
    "            while self.keys[index] is not None:\n",
    "                # Если ключ уже существует, заменяем значение\n",
    "                if self.keys[index] == key:\n",
    "                    self.values[index] = data\n",
    "                    return\n",
    "\n",
    "                # Иначе, ищем следующую свободную ячейку\n",
    "                index = (index + 1) % self.size\n",
    "\n",
    "            # Добавляем элемент в следующую свободную ячейку\n",
    "            self.keys[index] = key\n",
    "            self.values[index] = data\n",
    "\n",
    "    # Метод для получения значения по ключу\n",
    "    def get(self, key):\n",
    "        # Получаем индекс для ключа\n",
    "        index = self.hashFunction(key)\n",
    "\n",
    "        # Если ячейка пуста, значит элемент не найден\n",
    "        if self.keys[index] is None:\n",
    "            return None\n",
    "\n",
    "        # Иначе, используем линейное пробирование\n",
    "        while self.keys[index] is not None:\n",
    "            # Если ключ найден, возвращаем значение\n",
    "            if self.keys[index] == key:\n",
    "                return self.values[index]\n",
    "\n",
    "            # Иначе, ищем следующую ячейку\n",
    "            index = (index + 1) % self.size\n",
    "\n",
    "        # Если дошли до конца таблицы, значит элемент не найден\n",
    "        return None\n",
    "\n",
    "# Создаем хеш-таблицу\n",
    "hashTable = HashTable()\n",
    "\n",
    "# Добавляем элементы\n",
    "hashTable.put(1,\"a\")\n",
    "hashTable.put(2, \"b\")\n",
    "hashTable.put(11, \"c\")\n",
    "hashTable.put(21, \"d\")\n",
    "\n",
    "# Получаем значения\n",
    "print(hashTable.get(1)) # a\n",
    "print(hashTable.get(2)) # b\n",
    "print(hashTable.get(11)) # c\n",
    "print(hashTable.get(21)) # d"
   ]
  },
  {
   "cell_type": "markdown",
   "id": "31c1dc0d",
   "metadata": {
    "pycharm": {
     "name": "#%% md\n"
    }
   },
   "source": []
  },
  {
   "cell_type": "code",
   "execution_count": 64,
   "id": "9231d619",
   "metadata": {
    "pycharm": {
     "name": "#%%\n"
    }
   },
   "outputs": [],
   "source": [
    "##Метод цепочек"
   ]
  },
  {
   "cell_type": "markdown",
   "id": "a4adf6ee",
   "metadata": {
    "pycharm": {
     "name": "#%% md\n"
    }
   },
   "source": []
  },
  {
   "cell_type": "code",
   "execution_count": 65,
   "id": "d837fc0e",
   "metadata": {
    "pycharm": {
     "name": "#%%\n"
    }
   },
   "outputs": [
    {
     "name": "stdout",
     "output_type": "stream",
     "text": [
      "value1\n",
      "None\n"
     ]
    }
   ],
   "source": [
    "# Метод цепочек - это метод решения коллизий в хэш-таблицах. Он основан на создании связанных списков (цепочек) элементов,\n",
    "# которые имеют одинаковый хэш-код.\n",
    "\n",
    "# Создаем класс узла списка\n",
    "class Node:\n",
    "    def __init__(self, key, value):\n",
    "        self.key = key\n",
    "        self.value = value\n",
    "        self.next = None\n",
    "# Создаем класс хэш-таблицы\n",
    "class HashTable:\n",
    "    def __init__(self):\n",
    "        self.capacity = 10 # начальная емкость таблицы\n",
    "        self.size = 0 # количество элементов в таблице\n",
    "        self.buckets = [None] * self.capacity # создаем пустые списки для каждой ячейки таблицы\n",
    "\n",
    "    # Метод добавления элемента в таблицу\n",
    "    def add(self, key, value):\n",
    "        index = hash(key) % self.capacity # вычисляем хэш-код ключа и индекс ячейки таблицы\n",
    "        node = self.buckets[index] # получаем список (цепочку) элементов по индексу\n",
    "        while node: # проходим по всем элементам цепочки\n",
    "            if node.key == key: # если ключ уже есть в таблице, обновляем значение\n",
    "                node.value = value\n",
    "                return\n",
    "            node = node.next\n",
    "        # если ключа нет в таблице, добавляем его в начало цепочки\n",
    "        new_node = Node(key, value)\n",
    "        new_node.next = self.buckets[index]\n",
    "        self.buckets[index] = new_node\n",
    "        self.size += 1\n",
    "        # если количество элементов превысило 70% от емкости таблицы, увеличиваем емкость вдвое\n",
    "        if self.size > 0.7 * self.capacity:\n",
    "            self.resize()\n",
    "\n",
    "    # Метод получения значения по ключу\n",
    "    def get(self, key):\n",
    "        index = hash(key) % self.capacity # вычисляем хэш-код ключа и индекс ячейки таблицы\n",
    "        node = self.buckets[index] # получаем список (цепочку) элементов по индексу\n",
    "        while node: # проходим по всем элементам цепочки\n",
    "            if node.key == key: # если ключ найден, возвращаем его значение\n",
    "                return node.value\n",
    "            node = node.next\n",
    "        # если ключ не найден, возвращаем None\n",
    "        return None\n",
    "\n",
    "    # Метод удаления элемента из таблицы\n",
    "    def remove(self, key):\n",
    "        index = hash(key) % self.capacity # вычисляем хэш-код ключа и индекс ячейки таблицы\n",
    "        node = self.buckets[index] # получаем список (цепочку) элементов по индексу\n",
    "        prev = None\n",
    "        while node: # проходим по всем элементам цепочки\n",
    "            if node.key == key: # если ключ найден, удаляем элемент\n",
    "                if prev:\n",
    "                    prev.next = node.next\n",
    "                else:\n",
    "                    self.buckets[index] = node.next\n",
    "                self.size -= 1\n",
    "                return\n",
    "            prev = node\n",
    "            node = node.next\n",
    "\n",
    "    # Метод изменения емкости таблицы\n",
    "    def resize(self):\n",
    "        new_capacity = self.capacity * 2 # увеличиваем емкость вдвое\n",
    "        new_buckets = [None] * new_capacity # создаем новую таблицу с увеличенной емкостью\n",
    "        # перехешируем все элементы из старой таблицы в новую\n",
    "        for i in range(self.capacity):\n",
    "            node = self.buckets[i]\n",
    "            while node:\n",
    "                index = hash(node.key) % new_capacity\n",
    "                if new_buckets[index]:\n",
    "                    new_node = new_buckets[index]\n",
    "                    while new_node.next:\n",
    "                        new_node = new_node.next\n",
    "                    new_node.next = Node(node.key, node.value)\n",
    "                else:\n",
    "                    new_buckets[index] = Node(node.key, node.value)\n",
    "                node = node.next\n",
    "        self.capacity = new_capacity\n",
    "        self.buckets = new_buckets\n",
    "# Пример использования\n",
    "hashtable = HashTable()\n",
    "# Добавляем ключи и значения\n",
    "hashtable.add('key1', 'value1')\n",
    "hashtable.add('key2', 'value2')\n",
    "hashtable.add('key3', 'value3')\n",
    "hashtable.add('key4', 'value4')\n",
    "# Получим значение из ключа\n",
    "print(hashtable.get('key1')) # выведет 'value1'\n",
    "# Удалим ключ\n",
    "hashtable.remove('key3')\n",
    "# Выведем значение, если ключ у нас удален\n",
    "print(hashtable.get('key3')) # выведет None"
   ]
  },
  {
   "cell_type": "markdown",
   "id": "9932a231",
   "metadata": {
    "pycharm": {
     "name": "#%% md\n"
    }
   },
   "source": []
  },
  {
   "cell_type": "code",
   "execution_count": 66,
   "id": "bbd85e9f",
   "metadata": {
    "pycharm": {
     "name": "#%%\n"
    }
   },
   "outputs": [],
   "source": [
    "##Рехэширование с помощью псевдослучайных чисел"
   ]
  },
  {
   "cell_type": "markdown",
   "id": "4dc7b581",
   "metadata": {
    "pycharm": {
     "name": "#%% md\n"
    }
   },
   "source": []
  },
  {
   "cell_type": "code",
   "execution_count": 72,
   "id": "701811c8",
   "metadata": {
    "pycharm": {
     "name": "#%%\n"
    }
   },
   "outputs": [
    {
     "name": "stdout",
     "output_type": "stream",
     "text": [
      "a\n",
      "b\n",
      "c\n",
      "d\n"
     ]
    }
   ],
   "source": [
    "import random\n",
    "\n",
    "class HashTable:\n",
    "    # Конструктор класса\n",
    "    def __init__(self):\n",
    "        self.size = 10 # размер таблицы\n",
    "        self.keys = [None] * self.size # ключи\n",
    "        self.values = [None] * self.size # значения\n",
    "\n",
    "    # Метод для генерации псевдослучайного числа\n",
    "    def randomFunction(self):\n",
    "        return random.randint(0, self.size - 1)\n",
    "\n",
    "    # Метод для добавления элемента в таблицу\n",
    "    def put(self, key, data):\n",
    "        # Получаем индекс для ключа\n",
    "        index = key % self.size\n",
    "\n",
    "        # Если ячейка пуста, добавляем элемент\n",
    "        if self.keys[index] is None:\n",
    "            self.keys[index] = key\n",
    "            self.values[index] = data\n",
    "        else:\n",
    "            # Иначе, используем рехэширование с помощью псевдослучайных чисел\n",
    "            while self.keys[index] is not None:\n",
    "                # Если ключ уже существует, заменяем значение\n",
    "                if self.keys[index] == key:\n",
    "                    self.values[index] = data\n",
    "                    return\n",
    "\n",
    "                # Иначе, генерируем новый индекс\n",
    "                index = (index + self.randomFunction()) % self.size\n",
    "\n",
    "            # Добавляем элемент в новую ячейку\n",
    "            self.keys[index] = key\n",
    "            self.values[index] = data\n",
    "\n",
    "    # Метод для получения значения по ключу\n",
    "    def get(self, key):\n",
    "        # Получаем индекс для ключа\n",
    "        index = key % self.size\n",
    "\n",
    "        # Если ячейка пуста, значит элемент не найден\n",
    "        if self.keys[index] is None:\n",
    "            return None\n",
    "\n",
    "        # Иначе, используем рехэширование с помощью псевдослучайных чисел\n",
    "        while self.keys[index] is not None:\n",
    "            # Если ключ найден, возвращаем значение\n",
    "            if self.keys[index] == key:\n",
    "                return self.values[index]\n",
    "\n",
    "            # Иначе, генерируем новый индекс\n",
    "            index = (index + self.randomFunction()) % self.size\n",
    "\n",
    "        # Если дошли до конца таблицы, значит элемент не найден\n",
    "        return None\n",
    "\n",
    "\n",
    "\n",
    "# Создаем хеш-таблицу\n",
    "hashTable = HashTable()\n",
    "\n",
    "# Добавляем элементы\n",
    "hashTable.put(1, \"a\")\n",
    "hashTable.put(2, \"b\")\n",
    "hashTable.put(3, \"c\")\n",
    "hashTable.put(4, \"d\")\n",
    "\n",
    "# Получаем значения\n",
    "print(hashTable.get(1)) # a\n",
    "print(hashTable.get(2)) # b\n",
    "print(hashTable.get(3)) # c\n",
    "print(hashTable.get(4)) # d"
   ]
  },
  {
   "cell_type": "markdown",
   "id": "91b56010",
   "metadata": {
    "pycharm": {
     "name": "#%% md\n"
    }
   },
   "source": [
    "\n"
   ]
  },
  {
   "cell_type": "markdown",
   "id": "905e8dc5",
   "metadata": {
    "pycharm": {
     "name": "#%% md\n"
    }
   },
   "source": []
  },
  {
   "cell_type": "code",
   "execution_count": 67,
   "id": "8cb3437f",
   "metadata": {
    "scrolled": true,
    "pycharm": {
     "name": "#%%\n"
    }
   },
   "outputs": [],
   "source": []
  },
  {
   "cell_type": "markdown",
   "id": "9f7b8498",
   "metadata": {
    "pycharm": {
     "name": "#%% md\n"
    }
   },
   "source": []
  },
  {
   "cell_type": "code",
   "execution_count": 67,
   "id": "965d9c62",
   "metadata": {
    "pycharm": {
     "name": "#%%\n"
    }
   },
   "outputs": [],
   "source": []
  },
  {
   "cell_type": "markdown",
   "id": "9b65457d",
   "metadata": {
    "pycharm": {
     "name": "#%% md\n"
    }
   },
   "source": []
  },
  {
   "cell_type": "code",
   "execution_count": 67,
   "id": "87800c7a",
   "metadata": {
    "pycharm": {
     "name": "#%%\n"
    }
   },
   "outputs": [],
   "source": []
  },
  {
   "cell_type": "markdown",
   "id": "7c47b0e0",
   "metadata": {
    "pycharm": {
     "name": "#%% md\n"
    }
   },
   "source": [
    "\n",
    "\n"
   ]
  },
  {
   "cell_type": "code",
   "execution_count": 67,
   "id": "4df5153a",
   "metadata": {
    "pycharm": {
     "name": "#%%\n"
    }
   },
   "outputs": [],
   "source": []
  },
  {
   "cell_type": "markdown",
   "id": "a33797e5",
   "metadata": {
    "pycharm": {
     "name": "#%% md\n"
    }
   },
   "source": []
  },
  {
   "cell_type": "markdown",
   "id": "f5122d38",
   "metadata": {
    "pycharm": {
     "name": "#%% md\n"
    }
   },
   "source": []
  }
 ],
 "metadata": {
  "kernelspec": {
   "display_name": "Python 3 (ipykernel)",
   "language": "python",
   "name": "python3"
  },
  "language_info": {
   "codemirror_mode": {
    "name": "ipython",
    "version": 3
   },
   "file_extension": ".py",
   "mimetype": "text/x-python",
   "name": "python",
   "nbconvert_exporter": "python",
   "pygments_lexer": "ipython3",
   "version": "3.9.13"
  }
 },
 "nbformat": 4,
 "nbformat_minor": 5
}