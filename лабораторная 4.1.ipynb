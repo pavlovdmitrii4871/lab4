{
 "cells": [
  {
   "cell_type": "markdown",
   "id": "f8f80925",
   "metadata": {
    "pycharm": {
     "name": "#%% md\n"
    }
   },
   "source": [
    "# Лабораторная работа 4. \n",
    "# Методы поиска."
   ]
  },
  {
   "cell_type": "markdown",
   "id": "028c341d",
   "metadata": {
    "pycharm": {
     "name": "#%% md\n"
    }
   },
   "source": [
    "## Выполнил студент группы БСТ2201 Павлов Дмитрий"
   ]
  },
  {
   "cell_type": "markdown",
   "id": "613520d0",
   "metadata": {
    "pycharm": {
     "name": "#%% md\n"
    }
   },
   "source": [
    "# Задание №1\n",
    "Реализовать методы поиска в соответствии с заданием. Организовать генерацию начального набора случайных данных. \n",
    "Для всех вариантов добавить реализацию добавления, поиска и удаления элементов. \n",
    "Оценить время работы каждого алгоритма поиска и сравнить его со временем работы стандартной функции поиска, \n",
    "используемой в выбранном языке программирования.\n"
   ]
  },
  {
   "cell_type": "code",
   "execution_count": 1,
   "id": "a3749f16",
   "metadata": {
    "pycharm": {
     "name": "#%%\n"
    }
   },
   "outputs": [],
   "source": [
    "import random\n",
    "import timeit\n",
    "import copy"
   ]
  },
  {
   "cell_type": "markdown",
   "id": "1393551a",
   "metadata": {
    "pycharm": {
     "name": "#%% md\n"
    }
   },
   "source": [
    "Генерация начального набора случайных данных"
   ]
  },
  {
   "cell_type": "code",
   "execution_count": 2,
   "id": "d7db89ee",
   "metadata": {
    "pycharm": {
     "name": "#%%\n"
    }
   },
   "outputs": [
    {
     "name": "stdout",
     "output_type": "stream",
     "text": [
      "[1, 3, 5, 6, 6, 7, 7, 7, 8, 8]\n"
     ]
    }
   ],
   "source": [
    "lenght = int(input(\"Введите длину массива: \"))\n",
    "minimum = int(input(\"Минимальная граница: \"))\n",
    "maximum = int(input(\"Максимальная граница: \"))\n",
    "\n",
    "# генерация массива\n",
    "def generate_array(lenght, minimum, maximum):\n",
    "    array = [random.randint(minimum, maximum) for i in range(lenght)]\n",
    "    array.sort()\n",
    "    return array\n",
    "make_array = generate_array(lenght, minimum, maximum)\n",
    "print(make_array)"
   ]
  },
  {
   "cell_type": "markdown",
   "id": "11597a1b",
   "metadata": {
    "pycharm": {
     "name": "#%% md\n"
    }
   },
   "source": [
    "Бинарный поиск"
   ]
  },
  {
   "cell_type": "code",
   "execution_count": 3,
   "id": "7adf255d",
   "metadata": {
    "pycharm": {
     "name": "#%%\n"
    }
   },
   "outputs": [
    {
     "name": "stdout",
     "output_type": "stream",
     "text": [
      "Вывод массива со вставленным элементом: \n",
      "[1, 1, 3, 5, 6, 6, 7, 7, 7, 8, 8]\n",
      "Вывод массива с удаленным элементом: \n",
      "[1, 1, 3, 6, 6, 7, 7, 7, 8, 8]\n"
     ]
    }
   ],
   "source": [
    "array = copy.deepcopy(make_array)\n",
    "# Функция бинарного поиска принимает на вход отсортированный массив и элемент, который нужно найти\n",
    "def binary_search(arr, item):\n",
    "    # нижняя и верхняя граница \n",
    "    low ,high = 0, len(arr) - 1 \n",
    "    while low <= high:\n",
    "        mid = (low + high) // 2 # Находим средний элемент массива\n",
    "        if arr[mid] == item: # Если средний элемент равен искомому элементу, то возвращаем его индекс\n",
    "            return mid\n",
    "        elif arr[mid] > item: # Если средний элемент больше искомого, то ищем элемент в левой половине массива\n",
    "            high = mid - 1\n",
    "        else: # Иначе ищем элемент в правой половине массива\n",
    "            low = mid + 1\n",
    "    return None # Если элемент не найден, то возвращаем None\n",
    "    \n",
    "# Вставка элемента\n",
    "insert_elem = int(input(\"Введите элемент, который хотите вставить: \", ))\n",
    "print(\"Вывод массива со вставленным элементом: \")\n",
    "array.append(insert_elem)\n",
    "array.sort()\n",
    "print(array)\n",
    "\n",
    "# Удаление элемента\n",
    "delete_elem = int(input(\"Введите элемент, который хотите удалить: \", ))\n",
    "print(\"Вывод массива с удаленным элементом: \")\n",
    "array.remove(delete_elem)\n",
    "print(array)"
   ]
  },
  {
   "cell_type": "markdown",
   "id": "5f1cae35",
   "metadata": {
    "pycharm": {
     "name": "#%% md\n"
    }
   },
   "source": [
    "Бинарное дерево"
   ]
  },
  {
   "cell_type": "code",
   "execution_count": 4,
   "id": "3001829d",
   "metadata": {
    "pycharm": {
     "name": "#%%\n"
    }
   },
   "outputs": [
    {
     "name": "stdout",
     "output_type": "stream",
     "text": [
      "Бинарное дерево после добавления элемента 1 : [1, 3, 5, 6, 7, 8]\n",
      "Бинарное дерево после удаления элемента 5 : [1, 3, 6, 7, 8]\n"
     ]
    }
   ],
   "source": [
    "array = copy.deepcopy(make_array)\n",
    "# Класс для создания узла бинарного дерева\n",
    "class Node:\n",
    "    def __init__(self, key):\n",
    "        self.left = None\n",
    "        self.right = None\n",
    "        self.val = key\n",
    "# Класс для создания бинарного дерева\n",
    "class BinarySearchTree:\n",
    "    def __init__(self):\n",
    "        self.root = None\n",
    "    # Метод для добавления узла в дерево\n",
    "    def insert(self, key):\n",
    "        # Если дерево пустое, то новый узел становится корневым. \n",
    "        # Иначе, метод вызывает вспомогательный метод _insert, который добавляет новый узел рекурсивно.\n",
    "        if self.root is None:\n",
    "            self.root = Node(key)\n",
    "        else:\n",
    "            self._insert(key, self.root)\n",
    "    # Вспомогательный метод для рекурсивного добавления узла в дерево\n",
    "    def _insert(self, key, node):\n",
    "        # Если значение key меньше, чем значение текущего узла node.val, \n",
    "        # то рекурсивно вызывается метод _insert(key, node.left), который добавляет новый узел в левое поддерево\n",
    "        if key < node.val:\n",
    "            if node.left is None:\n",
    "                node.left = Node(key)\n",
    "            else:\n",
    "                self._insert(key, node.left)\n",
    "        # Если значение key больше, чем значение текущего узла node.val, \n",
    "        # то рекурсивно вызывается метод _insert(key, node.right), который добавляет новый узел в правое поддерево\n",
    "        elif key > node.val:\n",
    "            if node.right is None:\n",
    "                node.right = Node(key)\n",
    "            else:\n",
    "                self._insert(key, node.right)\n",
    "    # Метод для поиска узла в дереве\n",
    "    def search(self, key):\n",
    "        return self._search(key, self.root)\n",
    "    # Вспомогательный метод для рекурсивного поиска узла в дереве\n",
    "    def _search(self, key, node):\n",
    "        if node is None or node.val == key:\n",
    "            return node\n",
    "        elif key < node.val:\n",
    "            return self._search(key, node.left)\n",
    "        else:\n",
    "            return self._search(key, node.right)\n",
    "    # Метод для удаления узла из дерева\n",
    "    def delete(self, key):\n",
    "        # Если узел не найден в дереве, то метод ничего не делает. \n",
    "        # Иначе, метод вызывает вспомогательный метод _delete, который удаляет узел рекурсивно.\n",
    "        self.root = self._delete(key, self.root)\n",
    "    # Вспомогательный метод для рекурсивного удаления узла из дерева\n",
    "    def _delete(self, key, node):\n",
    "        # Если текущий узел пустой (None), то метод возвращает пустое значение.\n",
    "        if node is None:\n",
    "            return node\n",
    "        # Если ключ удаляемого узла меньше ключа текущего узла, то метод вызывает себя рекурсивно для левого потомка текущего узла.\n",
    "        elif key < node.val:\n",
    "            node.left = self._delete(key, node.left)\n",
    "        # Если ключ удаляемого узла больше ключа текущего узла, то метод вызывает себя рекурсивно для правого потомка текущего узла.\n",
    "        elif key > node.val:\n",
    "            node.right = self._delete(key, node.right)\n",
    "        # Если ключ удаляемого узла равен ключу текущего узла, то метод проверяет, есть ли у удаляемого узла потомки.\n",
    "        else:\n",
    "            # Если у удаляемого узла нет потомков, то метод возвращает пустое значение.\n",
    "            if node.left is None:\n",
    "                return node.right\n",
    "            # Если у удаляемого узла есть только один потомок, то этот потомок заменяет удаляемый узел.\n",
    "            elif node.right is None:\n",
    "                return node.left\n",
    "            # Если у удаляемого узла есть два потомка, то метод находит узел с минимальным значением в правом поддереве, \n",
    "            # заменяет удаляемый узел этим узлом и рекурсивно удаляет узел с минимальным значением из правого поддерева.\n",
    "            else:\n",
    "                min_node = self._find_min(node.right)\n",
    "                node.val = min_node.val\n",
    "                node.right = self._delete(min_node.val, node.right)\n",
    "        return node\n",
    "    # обход дерева в порядке in-order (левое поддерево, узел, правое поддерево) и возвращает список элементов дерева. \n",
    "    def inorder_traversal(self):\n",
    "        result = []\n",
    "        self._inorder_traversal(self.root, result)\n",
    "        return result\n",
    "    # рекурсивный обход дерева в порядке in-order, начиная с левого поддерева, \n",
    "    # затем добавляет значение текущего узла в список result и переходит к правому поддереву\n",
    "    def _inorder_traversal(self, node, result):\n",
    "        if node is not None:\n",
    "            self._inorder_traversal(node.left, result)\n",
    "            result.append(node.val)\n",
    "            self._inorder_traversal(node.right, result)\n",
    "\n",
    "# Создание бинарного дерева и добавление элементов\n",
    "bst = BinarySearchTree()\n",
    "for num in array:\n",
    "    bst.insert(num)\n",
    "\n",
    "# Добавление элемента в дерево\n",
    "add_key = int(input(\"Введите элемент, который хотите вставить: \"))\n",
    "bst.insert(add_key)\n",
    "print('Бинарное дерево после добавления элемента', add_key, ':', bst.inorder_traversal())\n",
    "\n",
    "# Удаление элемента из дерева\n",
    "delete_key = int(input(\"Введите элемент, который хотите удалить: \"))\n",
    "bst.delete(delete_key)\n",
    "print('Бинарное дерево после удаления элемента', delete_key, ':', bst.inorder_traversal())\n"
   ]
  },
  {
   "cell_type": "markdown",
   "id": "31c1dc0d",
   "metadata": {
    "pycharm": {
     "name": "#%% md\n"
    }
   },
   "source": [
    "Фиббоначиев поиск"
   ]
  },
  {
   "cell_type": "code",
   "execution_count": 5,
   "id": "9231d619",
   "metadata": {
    "pycharm": {
     "name": "#%%\n"
    }
   },
   "outputs": [
    {
     "name": "stdout",
     "output_type": "stream",
     "text": [
      "Вывод массива со вставленным элементом: \n",
      "[1, 1, 3, 5, 6, 6, 7, 7, 7, 8, 8]\n",
      "Вывод массива с удаленным элементом: \n",
      "[1, 1, 3, 6, 6, 7, 7, 7, 8, 8]\n"
     ]
    }
   ],
   "source": [
    "array = copy.deepcopy(make_array)\n",
    "\n",
    "# Фиббоначиев поиск\n",
    "def fibonacci_search(mas, x):\n",
    "    # первые два числа и третье выраженное суммой прошлых\n",
    "    first_number, second_number = 0, 1\n",
    "    summary_number = first_number + second_number\n",
    "    # находит наименьшее число в последовательности Фибоначчи, которое больше или равно длине списка\n",
    "    while summary_number < len(mas):\n",
    "        # обновляет значения первого и второго чисел в последовательности Фибоначчи для подготовки к следующей итерации.\n",
    "        first_number, second_number= second_number, summary_number\n",
    "        summary_number = first_number + second_number\n",
    "    index = -1\n",
    "    # пока текущее число в последовательности Фибоначчи больше 1.\n",
    "    while summary_number > 1:\n",
    "        # i ищем для того, чтобы понять на сколько вниз нам сдвигаться\n",
    "        i = min(index+first_number, len(mas)-1)\n",
    "        if mas[i] < x:\n",
    "            # перемещаем  наши значения на два шага вниз и индекс становится индексом элемента\n",
    "            summary_number, second_number = second_number, first_number\n",
    "            first_number = summary_number - second_number\n",
    "            index = i\n",
    "        elif mas[i] > x:\n",
    "            # перемещаем наши значения на один шаг вниз\n",
    "            summary_number = first_number\n",
    "            second_number = second_number - first_number\n",
    "            first_number = summary_number - second_number\n",
    "        else:\n",
    "            return i\n",
    "    # проверяем значение\n",
    "    if second_number and index < len(mas)-1 and mas[index+1] == x:\n",
    "        return index + 1\n",
    "    return 'В сгенерированном массиве нет элемента с таким значением'\n",
    "\n",
    "# Вставка элемента\n",
    "insert_elem = int(input(\"Введите элемент, который хотите вставить: \", ))\n",
    "print(\"Вывод массива со вставленным элементом: \")\n",
    "array.append(insert_elem)\n",
    "array.sort()\n",
    "print(array)\n",
    "\n",
    "# Удаление элемента\n",
    "delete_elem = int(input(\"Введите элемент, который хотите удалить: \", ))\n",
    "print(\"Вывод массива с удаленным элементом: \")\n",
    "array.remove(delete_elem)\n",
    "print(array)"
   ]
  },
  {
   "cell_type": "markdown",
   "id": "a4adf6ee",
   "metadata": {
    "pycharm": {
     "name": "#%% md\n"
    }
   },
   "source": [
    "Интерполяционный поиск"
   ]
  },
  {
   "cell_type": "code",
   "execution_count": 6,
   "id": "d837fc0e",
   "metadata": {
    "pycharm": {
     "name": "#%%\n"
    }
   },
   "outputs": [
    {
     "name": "stdout",
     "output_type": "stream",
     "text": [
      "Вывод массива со вставленным элементом: \n",
      "[1, 1, 3, 5, 6, 6, 7, 7, 7, 8, 8]\n",
      "Вывод массива с удаленным элементом: \n",
      "[1, 1, 3, 6, 6, 7, 7, 7, 8, 8]\n"
     ]
    }
   ],
   "source": [
    "array = copy.deepcopy(make_array)\n",
    "# Интерполяционный поиск\n",
    "def interpolation_search(arr, item):\n",
    "    # Границы: нижняя - первый элемент массива, верхняя - последний элемент массива\n",
    "    low, high = 0, len(arr) - 1 \n",
    "    \n",
    "    # Пока искомый элемент находится в интервале между нижней и верхней границами\n",
    "    while low <= high and item >= arr[low] and item <= arr[high]:\n",
    "        # Определяем приблизительную позицию искомого элемента с помощью интерполяции\n",
    "        pos = low + ((item - arr[low]) * (high - low) // (arr[high] - arr[low]))\n",
    "        if arr[pos] == item: # Если элемент на найденной позиции равен искомому элементу, то возвращаем его индекс\n",
    "            return pos\n",
    "        elif arr[pos] < item: # Если элемент на найденной позиции меньше искомого, то ищем элемент только в правой половине массива\n",
    "            low = pos + 1\n",
    "        else: # Иначе ищем элемент только в левой половине массива\n",
    "            high = pos - 1\n",
    "    return None # Если элемент не найден, то возвращаем None\n",
    "\n",
    "# Вставка элемента\n",
    "insert_elem = int(input(\"Введите элемент, который хотите вставить: \", ))\n",
    "print(\"Вывод массива со вставленным элементом: \")\n",
    "array.append(insert_elem)\n",
    "array.sort()\n",
    "print(array)\n",
    "\n",
    "# Удаление элемента\n",
    "delete_elem = int(input(\"Введите элемент, который хотите удалить: \", ))\n",
    "print(\"Вывод массива с удаленным элементом: \")\n",
    "array.remove(delete_elem)\n",
    "print(array)"
   ]
  },
  {
   "cell_type": "markdown",
   "id": "9932a231",
   "metadata": {
    "pycharm": {
     "name": "#%% md\n"
    }
   },
   "source": [
    "Стандартная функция поиска"
   ]
  },
  {
   "cell_type": "code",
   "execution_count": 7,
   "id": "bbd85e9f",
   "metadata": {
    "pycharm": {
     "name": "#%%\n"
    }
   },
   "outputs": [
    {
     "name": "stdout",
     "output_type": "stream",
     "text": [
      "Вывод массива со вставленным элементом: \n",
      "[1, 1, 3, 5, 6, 6, 7, 7, 7, 8, 8]\n",
      "Вывод массива с удаленным элементом: \n",
      "[1, 1, 3, 6, 6, 7, 7, 7, 8, 8]\n"
     ]
    }
   ],
   "source": [
    "array = copy.deepcopy(make_array)\n",
    "\n",
    "def builtin_find(arr, item):\n",
    "    return arr.index(item)\n",
    "\n",
    "# Вставка элемента\n",
    "insert_elem = int(input(\"Введите элемент, который хотите вставить: \", ))\n",
    "print(\"Вывод массива со вставленным элементом: \")\n",
    "array.append(insert_elem)\n",
    "array.sort()\n",
    "print(array)\n",
    "\n",
    "# Удаление элемента\n",
    "delete_elem = int(input(\"Введите элемент, который хотите удалить: \", ))\n",
    "print(\"Вывод массива с удаленным элементом: \")\n",
    "array.remove(delete_elem)\n",
    "print(array)"
   ]
  },
  {
   "cell_type": "markdown",
   "id": "4dc7b581",
   "metadata": {
    "pycharm": {
     "name": "#%% md\n"
    }
   },
   "source": [
    "Сравнение времени"
   ]
  },
  {
   "cell_type": "code",
   "execution_count": 8,
   "id": "701811c8",
   "metadata": {
    "pycharm": {
     "name": "#%%\n"
    }
   },
   "outputs": [
    {
     "name": "stdout",
     "output_type": "stream",
     "text": [
      "Исходный массив: \n",
      "[1, 3, 5, 6, 6, 7, 7, 7, 8, 8]\n",
      "\n",
      "Метод Бинарного поиска работал: 3.2699999792384915e-05 секунд\n",
      "Метод Бинарного дерева работал: 2.9099999665049836e-05 секунд\n",
      "Метод Фиббоначиев поиск работал: 2.8200000087963417e-05 секунд\n",
      "Метод Интерполяционного поиска работал: 2.640000093379058e-05 секунд\n",
      "Метод поиска работал: 2.5100000129896216e-05 секунд\n"
     ]
    }
   ],
   "source": [
    "print(\"Исходный массив: \")\n",
    "array = copy.deepcopy(make_array)\n",
    "print(make_array)\n",
    "find_elem = int(input(\"Введите элемент, который хотите найти: \", ))\n",
    "print()\n",
    "\n",
    "starttime = timeit.default_timer()\n",
    "binary_search(array, find_elem)\n",
    "endtime = timeit.default_timer()\n",
    "print(\"Метод Бинарного поиска работал:\", endtime - starttime, \"секунд\")\n",
    "\n",
    "starttime = timeit.default_timer()\n",
    "bst.search(find_elem)\n",
    "endtime = timeit.default_timer()\n",
    "print(\"Метод Бинарного дерева работал:\", endtime - starttime, \"секунд\")\n",
    "\n",
    "starttime = timeit.default_timer()\n",
    "fibonacci_search(array, find_elem)\n",
    "endtime = timeit.default_timer()\n",
    "print(\"Метод Фиббоначиев поиск работал:\", endtime - starttime, \"секунд\")\n",
    "\n",
    "starttime = timeit.default_timer()\n",
    "interpolation_search(array, find_elem)\n",
    "endtime = timeit.default_timer()\n",
    "print(\"Метод Интерполяционного поиска работал:\", endtime - starttime, \"секунд\")\n",
    "\n",
    "starttime = timeit.default_timer()\n",
    "builtin_find(array, find_elem)\n",
    "endtime = timeit.default_timer()\n",
    "print(\"Метод поиска работал:\", endtime - starttime, \"секунд\")"
   ]
  },
  {
   "cell_type": "markdown",
   "id": "91b56010",
   "metadata": {
    "pycharm": {
     "name": "#%% md\n"
    }
   },
   "source": [
    "\n"
   ]
  },
  {
   "cell_type": "markdown",
   "id": "905e8dc5",
   "metadata": {
    "pycharm": {
     "name": "#%% md\n"
    }
   },
   "source": []
  },
  {
   "cell_type": "code",
   "execution_count": 8,
   "id": "8cb3437f",
   "metadata": {
    "scrolled": true,
    "pycharm": {
     "name": "#%%\n"
    }
   },
   "outputs": [],
   "source": []
  },
  {
   "cell_type": "markdown",
   "id": "9f7b8498",
   "metadata": {
    "pycharm": {
     "name": "#%% md\n"
    }
   },
   "source": []
  },
  {
   "cell_type": "code",
   "execution_count": 8,
   "id": "965d9c62",
   "metadata": {
    "pycharm": {
     "name": "#%%\n"
    }
   },
   "outputs": [],
   "source": []
  },
  {
   "cell_type": "markdown",
   "id": "9b65457d",
   "metadata": {
    "pycharm": {
     "name": "#%% md\n"
    }
   },
   "source": []
  },
  {
   "cell_type": "code",
   "execution_count": 8,
   "id": "87800c7a",
   "metadata": {
    "pycharm": {
     "name": "#%%\n"
    }
   },
   "outputs": [],
   "source": []
  },
  {
   "cell_type": "markdown",
   "id": "7c47b0e0",
   "metadata": {
    "pycharm": {
     "name": "#%% md\n"
    }
   },
   "source": [
    "\n",
    "\n"
   ]
  },
  {
   "cell_type": "code",
   "execution_count": 8,
   "id": "4df5153a",
   "metadata": {
    "pycharm": {
     "name": "#%%\n"
    }
   },
   "outputs": [],
   "source": []
  },
  {
   "cell_type": "markdown",
   "id": "a33797e5",
   "metadata": {
    "pycharm": {
     "name": "#%% md\n"
    }
   },
   "source": []
  },
  {
   "cell_type": "markdown",
   "id": "f5122d38",
   "metadata": {
    "pycharm": {
     "name": "#%% md\n"
    }
   },
   "source": []
  }
 ],
 "metadata": {
  "kernelspec": {
   "display_name": "Python 3 (ipykernel)",
   "language": "python",
   "name": "python3"
  },
  "language_info": {
   "codemirror_mode": {
    "name": "ipython",
    "version": 3
   },
   "file_extension": ".py",
   "mimetype": "text/x-python",
   "name": "python",
   "nbconvert_exporter": "python",
   "pygments_lexer": "ipython3",
   "version": "3.9.13"
  }
 },
 "nbformat": 4,
 "nbformat_minor": 5
}